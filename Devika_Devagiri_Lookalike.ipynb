{
  "nbformat": 4,
  "nbformat_minor": 0,
  "metadata": {
    "colab": {
      "provenance": []
    },
    "kernelspec": {
      "name": "python3",
      "display_name": "Python 3"
    },
    "language_info": {
      "name": "python"
    }
  },
  "cells": [
    {
      "cell_type": "markdown",
      "source": [
        "#Task 2: Lookalike Model"
      ],
      "metadata": {
        "id": "I83Yp8TNZ1nD"
      }
    },
    {
      "cell_type": "code",
      "execution_count": null,
      "metadata": {
        "id": "pcBiWH9oOLEO"
      },
      "outputs": [],
      "source": [
        "import pandas as pd\n",
        "from sklearn.preprocessing import MinMaxScaler\n",
        "from sklearn.metrics.pairwise import cosine_similarity\n",
        "\n",
        "# Load datasets\n",
        "customers = pd.read_csv(\"Customers.csv\")\n",
        "products = pd.read_csv(\"Products.csv\")\n",
        "transactions = pd.read_csv(\"Transactions.csv\")\n"
      ]
    },
    {
      "cell_type": "markdown",
      "source": [
        "##Merge Datasets:\n",
        "\n",
        "Merge Customers.csv, Products.csv, and Transactions.csv to create a consolidated dataset.\n",
        "This allows us to use both profile and transaction data for similarity calculations."
      ],
      "metadata": {
        "id": "lOlOOzueXZj9"
      }
    },
    {
      "cell_type": "code",
      "source": [
        "merged = transactions.merge(products, on='ProductID').merge(customers, on='CustomerID')"
      ],
      "metadata": {
        "id": "nyy2WataYys0"
      },
      "execution_count": null,
      "outputs": []
    },
    {
      "cell_type": "markdown",
      "source": [
        "##Feature Engineering:\n",
        "\n",
        "Extract meaningful features for each customer, such as:\n",
        "* Total spending.\n",
        "* Number of unique product categories purchased.\n",
        "* Average price of products purchased.\n",
        "* Total quantity purchased.\n",
        "* Region (encoded numerically)."
      ],
      "metadata": {
        "id": "A7IpSSAUXgCS"
      }
    },
    {
      "cell_type": "code",
      "source": [
        "customer_features = merged.groupby('CustomerID').agg({\n",
        "    'TotalValue': 'sum',              # Total spending\n",
        "    'ProductID': 'nunique',           # Number of unique products purchased\n",
        "    'Category': 'nunique',            # Number of unique categories purchased\n",
        "    'Quantity': 'sum',                # Total quantity purchased\n",
        "    'Region': 'first'                 # Region\n",
        "}).reset_index()"
      ],
      "metadata": {
        "id": "LlUzVxUkYzq_"
      },
      "execution_count": null,
      "outputs": []
    },
    {
      "cell_type": "markdown",
      "source": [
        "##Normalize Features:\n",
        "\n",
        "Scale numerical features using techniques like MinMaxScaler or StandardScaler to ensure all features contribute equally to similarity calculation.\n"
      ],
      "metadata": {
        "id": "4PUKX6kSXnHF"
      }
    },
    {
      "cell_type": "code",
      "source": [
        "customer_features['Region'] = customer_features['Region'].astype('category').cat.codes\n",
        "scaler = MinMaxScaler()\n",
        "normalized_features = scaler.fit_transform(customer_features.drop('CustomerID', axis=1))"
      ],
      "metadata": {
        "id": "6hzOAuPkY2o6"
      },
      "execution_count": null,
      "outputs": []
    },
    {
      "cell_type": "markdown",
      "source": [
        "##Defining a Similarity Metric:\n",
        "\n",
        "Use Cosine Similarity, which measures how similar two vectors are regardless of magnitude."
      ],
      "metadata": {
        "id": "BqqUqPRbYFAK"
      }
    },
    {
      "cell_type": "code",
      "source": [
        "similarity_matrix = cosine_similarity(normalized_features)\n",
        "\n",
        "# Find top 3 similar customers for the first 20 customers\n",
        "lookalike_results = {}\n",
        "for i in range(20):\n",
        "    # Get similarity scores for CustomerID C0001 - C0020\n",
        "    scores = list(enumerate(similarity_matrix[i]))\n",
        "    scores = sorted(scores, key=lambda x: x[1], reverse=True)[1:4]  # Exclude self (index 0)\n",
        "    customer_id = customer_features.iloc[i]['CustomerID']\n",
        "    lookalike_results[customer_id] = [(customer_features.iloc[idx]['CustomerID'], score) for idx, score in scores]"
      ],
      "metadata": {
        "id": "R4cpt1wNZL1I"
      },
      "execution_count": null,
      "outputs": []
    },
    {
      "cell_type": "markdown",
      "source": [
        "## Save results to Lookalike.csv\n",
        "Create a dictionary (or DataFrame) with CustomerID as the key and a list of top 3 similar customers with their scores as the value.\n",
        "Save the results to a file named Lookalike.csv"
      ],
      "metadata": {
        "id": "qoDngZJPYKaR"
      }
    },
    {
      "cell_type": "code",
      "source": [
        "lookalike_df = pd.DataFrame({\n",
        "    'CustomerID': list(lookalike_results.keys()),\n",
        "    'Recommendations': [str(rec) for rec in lookalike_results.values()]\n",
        "})\n",
        "lookalike_df.to_csv(\"Lookalike.csv\", index=False)\n",
        "\n",
        "print(\"Lookalike.csv has been created!\")"
      ],
      "metadata": {
        "colab": {
          "base_uri": "https://localhost:8080/"
        },
        "id": "e8wVnXv-ZUEy",
        "outputId": "a9f875db-8dfa-4cd5-9e7e-bf9b1b5c6ad8"
      },
      "execution_count": null,
      "outputs": [
        {
          "output_type": "stream",
          "name": "stdout",
          "text": [
            "Lookalike.csv has been created!\n"
          ]
        }
      ]
    }
  ]
}